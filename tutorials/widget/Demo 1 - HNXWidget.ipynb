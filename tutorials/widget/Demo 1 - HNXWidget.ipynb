{
 "cells": [
  {
   "cell_type": "code",
   "execution_count": null,
   "metadata": {},
   "outputs": [],
   "source": [
    "# !pip install hypernetx ## uncomment to run in Colab\n",
    "# !pip install hnxwidget"
   ]
  },
  {
   "cell_type": "markdown",
   "metadata": {},
   "source": [
    "# HyperNetX Widgets\n",
    "\n",
    "Unlike the tutorials, this is an interactive demo to get you acquainted with the constructor options and how to use the widget. **Hover over the nodes and edges each time you run the widget to see how properties enhance the visual information.**"
   ]
  },
  {
   "cell_type": "code",
   "execution_count": 1,
   "metadata": {
    "ExecuteTime": {
     "end_time": "2024-05-16T22:23:14.006519Z",
     "start_time": "2024-05-16T22:23:11.953762Z"
    }
   },
   "outputs": [],
   "source": [
    "import hypernetx as hnx\n",
    "from hypernetx.utils.toys.lesmis import LesMis\n",
    "from hnxwidget import HypernetxWidget\n",
    "import matplotlib.pyplot as plt"
   ]
  },
  {
   "cell_type": "code",
   "execution_count": 2,
   "metadata": {
    "ExecuteTime": {
     "end_time": "2024-05-16T22:23:14.281368Z",
     "start_time": "2024-05-16T22:23:14.007410Z"
    }
   },
   "outputs": [
    {
     "name": "stderr",
     "output_type": "stream",
     "text": [
      "/opt/miniconda3/envs/hnx2/lib/python3.10/site-packages/pandas/core/dtypes/cast.py:1641: DeprecationWarning: np.find_common_type is deprecated.  Please use `np.result_type` or `np.promote_types`.\n",
      "See https://numpy.org/devdocs/release/1.25.0-notes.html and the docs for more information.  (Deprecated NumPy 1.25)\n",
      "  return np.find_common_type(types, [])\n"
     ]
    },
    {
     "data": {
      "text/html": [
       "<div>\n",
       "<style scoped>\n",
       "    .dataframe tbody tr th:only-of-type {\n",
       "        vertical-align: middle;\n",
       "    }\n",
       "\n",
       "    .dataframe tbody tr th {\n",
       "        vertical-align: top;\n",
       "    }\n",
       "\n",
       "    .dataframe thead th {\n",
       "        text-align: right;\n",
       "    }\n",
       "</style>\n",
       "<table border=\"1\" class=\"dataframe\">\n",
       "  <thead>\n",
       "    <tr style=\"text-align: right;\">\n",
       "      <th></th>\n",
       "      <th>FullName</th>\n",
       "      <th>Description</th>\n",
       "    </tr>\n",
       "    <tr>\n",
       "      <th>Symbol</th>\n",
       "      <th></th>\n",
       "      <th></th>\n",
       "    </tr>\n",
       "  </thead>\n",
       "  <tbody>\n",
       "    <tr>\n",
       "      <th>AZ</th>\n",
       "      <td>Anzelma</td>\n",
       "      <td>daughter of TH and TM</td>\n",
       "    </tr>\n",
       "    <tr>\n",
       "      <th>BA</th>\n",
       "      <td>Bahorel</td>\n",
       "      <td>`Friends of the ABC' cutup</td>\n",
       "    </tr>\n",
       "    <tr>\n",
       "      <th>BB</th>\n",
       "      <td>Babet</td>\n",
       "      <td>tooth-pulling bandit of Paris</td>\n",
       "    </tr>\n",
       "    <tr>\n",
       "      <th>BJ</th>\n",
       "      <td>Brujon</td>\n",
       "      <td>notorious criminal</td>\n",
       "    </tr>\n",
       "    <tr>\n",
       "      <th>BL</th>\n",
       "      <td>Blacheville</td>\n",
       "      <td>Parisian student from Montauban</td>\n",
       "    </tr>\n",
       "    <tr>\n",
       "      <th>...</th>\n",
       "      <td>...</td>\n",
       "      <td>...</td>\n",
       "    </tr>\n",
       "    <tr>\n",
       "      <th>TS</th>\n",
       "      <td>Toussaint</td>\n",
       "      <td>servant of JV at Rue Plumet</td>\n",
       "    </tr>\n",
       "    <tr>\n",
       "      <th>VI</th>\n",
       "      <td>Madame Victurnien</td>\n",
       "      <td>snoop in M-- sur M--</td>\n",
       "    </tr>\n",
       "    <tr>\n",
       "      <th>XA</th>\n",
       "      <td>Child 1</td>\n",
       "      <td>son of TH sold to MN</td>\n",
       "    </tr>\n",
       "    <tr>\n",
       "      <th>XB</th>\n",
       "      <td>Child 2</td>\n",
       "      <td>son of TH sold to MN</td>\n",
       "    </tr>\n",
       "    <tr>\n",
       "      <th>ZE</th>\n",
       "      <td>Zephine</td>\n",
       "      <td>lover of FA</td>\n",
       "    </tr>\n",
       "  </tbody>\n",
       "</table>\n",
       "<p>80 rows × 2 columns</p>\n",
       "</div>"
      ],
      "text/plain": [
       "                 FullName                       Description\n",
       "Symbol                                                     \n",
       "AZ                Anzelma             daughter of TH and TM\n",
       "BA                Bahorel        `Friends of the ABC' cutup\n",
       "BB                  Babet     tooth-pulling bandit of Paris\n",
       "BJ                 Brujon                notorious criminal\n",
       "BL            Blacheville   Parisian student from Montauban\n",
       "...                   ...                               ...\n",
       "TS              Toussaint       servant of JV at Rue Plumet\n",
       "VI      Madame Victurnien              snoop in M-- sur M--\n",
       "XA                Child 1              son of TH sold to MN\n",
       "XB                Child 2              son of TH sold to MN\n",
       "ZE                Zephine                       lover of FA\n",
       "\n",
       "[80 rows x 2 columns]"
      ]
     },
     "execution_count": 2,
     "metadata": {},
     "output_type": "execute_result"
    }
   ],
   "source": [
    "scenes = {\n",
    "    0: ('FN', 'TH'),\n",
    "    1: ('TH', 'JV'),\n",
    "    2: ('BM', 'FN', 'JA'),\n",
    "    3: ('JV', 'JU', 'CH', 'BM'),\n",
    "    4: ('JU', 'CH', 'BR', 'CN', 'CC', 'JV', 'BM'),\n",
    "    5: ('TH', 'GP'),\n",
    "    6: ('GP', 'MP'),\n",
    "    7: ('MA', 'GP'),\n",
    "}\n",
    "H = hnx.Hypergraph(scenes)\n",
    "dnames = LesMis().dnames\n",
    "dnames"
   ]
  },
  {
   "cell_type": "markdown",
   "metadata": {},
   "source": [
    "## I. LesMis Hypergraph in the Hypernetx-Widget - Default Behavior\n",
    "The widget allows you to interactively move, color, select, and hide objects in the hypergraph. Click on the question mark in the Navigation menu for a description of interactive features."
   ]
  },
  {
   "cell_type": "code",
   "execution_count": 3,
   "metadata": {
    "ExecuteTime": {
     "end_time": "2024-05-16T22:23:15.130555Z",
     "start_time": "2024-05-16T22:23:15.104677Z"
    }
   },
   "outputs": [
    {
     "name": "stderr",
     "output_type": "stream",
     "text": [
      "/opt/miniconda3/envs/hnx2/lib/python3.10/site-packages/ipywidgets/widgets/widget.py:438: DeprecationWarning: The `ipykernel.comm.Comm` class has been deprecated. Please use the `comm` module instead.For creating comms, use the function `from comm import create_comm`.\n",
      "  self.comm = Comm(**args)\n"
     ]
    },
    {
     "data": {
      "application/vnd.jupyter.widget-view+json": {
       "model_id": "93965671121b4f67aaeea3c2616913b9",
       "version_major": 2,
       "version_minor": 0
      },
      "text/plain": [
       "HypernetxWidget(component='HypernetxWidget', props={'nodes': [{'uid': 'TH'}, {'uid': 'MP'}, {'uid': 'FN'}, {'u…"
      ]
     },
     "metadata": {},
     "output_type": "display_data"
    }
   ],
   "source": [
    "## Default behavior\n",
    "example1 = HypernetxWidget(H)\n",
    "example1"
   ]
  },
  {
   "cell_type": "markdown",
   "metadata": {},
   "source": [
    "## II. Preset attributes \n",
    "Some of the visualization attributes of the hypergraph may be set using similar parameters as the hnx.draw function"
   ]
  },
  {
   "cell_type": "code",
   "execution_count": 4,
   "metadata": {
    "ExecuteTime": {
     "end_time": "2024-05-16T22:23:16.132733Z",
     "start_time": "2024-05-16T22:23:16.120716Z"
    }
   },
   "outputs": [
    {
     "data": {
      "application/vnd.jupyter.widget-view+json": {
       "model_id": "6c4f2b96019d4ac0be5146d8f00e346f",
       "version_major": 2,
       "version_minor": 0
      },
      "text/plain": [
       "HypernetxWidget(component='HypernetxWidget', props={'nodes': [{'uid': 'TH'}, {'uid': 'MP'}, {'uid': 'FN'}, {'u…"
      ]
     },
     "metadata": {},
     "output_type": "display_data"
    }
   ],
   "source": [
    "node_colors = {k:'r' if k in ['JV','TH','FN'] else 'b' for k in H.nodes}\n",
    "example2 = HypernetxWidget(\n",
    "    H,\n",
    "    nodes_kwargs={'color':node_colors},\n",
    "    edges_kwargs={'edgecolors':'g'}\n",
    ")\n",
    "example2"
   ]
  },
  {
   "cell_type": "markdown",
   "metadata": {},
   "source": [
    "## III. Attributes of visualization:\n",
    "The `get_state()` method returns the attributes available from a widget for reuse.\n",
    "\n",
    "**Note:** if you \"Run All\" this notebook, the following cells may produce an exception. Acquiring the widget state in python requires some time for the widget to initialize and render. Run the cells below individually for best results."
   ]
  },
  {
   "cell_type": "code",
   "execution_count": 5,
   "metadata": {
    "ExecuteTime": {
     "end_time": "2024-05-16T22:23:17.245676Z",
     "start_time": "2024-05-16T22:23:17.232292Z"
    },
    "scrolled": true
   },
   "outputs": [
    {
     "data": {
      "text/plain": [
       "{'_dom_classes': (),\n",
       " '_model_module': 'hnxwidget',\n",
       " '_model_module_version': '^0.1.0',\n",
       " '_model_name': 'ExampleModel',\n",
       " '_view_count': None,\n",
       " '_view_module': 'hnxwidget',\n",
       " '_view_module_version': '^0.1.0',\n",
       " '_view_name': 'ExampleView',\n",
       " 'component': 'HypernetxWidget',\n",
       " 'edge_stroke': {},\n",
       " 'hidden_edges': {},\n",
       " 'hidden_nodes': {},\n",
       " 'layout': 'IPY_MODEL_bc96ccb610dc44d2ba6798d9f8f91771',\n",
       " 'node_fill': {},\n",
       " 'pos': {},\n",
       " 'props': {'nodes': [{'uid': 'TH'},\n",
       "   {'uid': 'MP'},\n",
       "   {'uid': 'FN'},\n",
       "   {'uid': 'CN'},\n",
       "   {'uid': 'MA'},\n",
       "   {'uid': 'BM'},\n",
       "   {'uid': 'BR'},\n",
       "   {'uid': 'CC'},\n",
       "   {'uid': 'JU'},\n",
       "   {'uid': 'JV'},\n",
       "   {'uid': 'GP'},\n",
       "   {'uid': 'CH'},\n",
       "   {'uid': 'JA'}],\n",
       "  'edges': [{'uid': '0', 'elements': ['FN', 'TH']},\n",
       "   {'uid': '1', 'elements': ['TH', 'JV']},\n",
       "   {'uid': '2', 'elements': ['BM', 'FN', 'JA']},\n",
       "   {'uid': '3', 'elements': ['JV', 'JU', 'CH', 'BM']},\n",
       "   {'uid': '4', 'elements': ['JU', 'CH', 'BR', 'CN', 'CC', 'JV', 'BM']},\n",
       "   {'uid': '5', 'elements': ['TH', 'GP']},\n",
       "   {'uid': '6', 'elements': ['GP', 'MP']},\n",
       "   {'uid': '7', 'elements': ['MA', 'GP']}],\n",
       "  'nodeFill': {'TH': '#ff0000ff',\n",
       "   'MP': '#0000ffff',\n",
       "   'FN': '#ff0000ff',\n",
       "   'CN': '#0000ffff',\n",
       "   'MA': '#0000ffff',\n",
       "   'BM': '#0000ffff',\n",
       "   'BR': '#0000ffff',\n",
       "   'CC': '#0000ffff',\n",
       "   'JU': '#0000ffff',\n",
       "   'JV': '#ff0000ff',\n",
       "   'GP': '#0000ffff',\n",
       "   'CH': '#0000ffff',\n",
       "   'JA': '#0000ffff'},\n",
       "  'edgeStroke': {0: '#008000ff',\n",
       "   1: '#008000ff',\n",
       "   2: '#008000ff',\n",
       "   3: '#008000ff',\n",
       "   4: '#008000ff',\n",
       "   5: '#008000ff',\n",
       "   6: '#008000ff',\n",
       "   7: '#008000ff'},\n",
       "  'edgeStrokeWidth': {0: 2, 1: 2, 2: 2, 3: 2, 4: 2, 5: 2, 6: 2, 7: 2},\n",
       "  'edgeLabelColor': {0: '#008000ff',\n",
       "   1: '#008000ff',\n",
       "   2: '#008000ff',\n",
       "   3: '#008000ff',\n",
       "   4: '#008000ff',\n",
       "   5: '#008000ff',\n",
       "   6: '#008000ff',\n",
       "   7: '#008000ff'}},\n",
       " 'removed_edges': {},\n",
       " 'removed_nodes': {},\n",
       " 'selected_edges': {},\n",
       " 'selected_nodes': {}}"
      ]
     },
     "execution_count": 5,
     "metadata": {},
     "output_type": "execute_result"
    }
   ],
   "source": [
    "example2.get_state()"
   ]
  },
  {
   "cell_type": "markdown",
   "metadata": {},
   "source": [
    "## IV. Reuse attributes\n",
    "Once an attribute of a widget visualization has been set it may be reused in another visualization"
   ]
  },
  {
   "cell_type": "code",
   "execution_count": 6,
   "metadata": {
    "ExecuteTime": {
     "end_time": "2024-05-16T22:23:18.370346Z",
     "start_time": "2024-05-16T22:23:18.359473Z"
    }
   },
   "outputs": [
    {
     "data": {
      "application/vnd.jupyter.widget-view+json": {
       "model_id": "7599ffb13290423491a500ef2bf49043",
       "version_major": 2,
       "version_minor": 0
      },
      "text/plain": [
       "HypernetxWidget(component='HypernetxWidget', props={'nodes': [{'uid': 'TH'}, {'uid': 'MP'}, {'uid': 'FN'}, {'u…"
      ]
     },
     "metadata": {},
     "output_type": "display_data"
    }
   ],
   "source": [
    "## \n",
    "example3 = HypernetxWidget(\n",
    "    H,\n",
    "    nodes_kwargs={'color': example2.props[\"nodeFill\"]}\n",
    ")\n",
    "\n",
    "example3"
   ]
  },
  {
   "cell_type": "markdown",
   "metadata": {},
   "source": [
    "## V. Setting Labels and Callouts\n",
    "We can also adjust specific labels and add call outs as node or edge data."
   ]
  },
  {
   "cell_type": "code",
   "execution_count": 7,
   "metadata": {
    "ExecuteTime": {
     "end_time": "2024-05-16T22:23:19.486436Z",
     "start_time": "2024-05-16T22:23:19.468323Z"
    },
    "scrolled": false
   },
   "outputs": [
    {
     "data": {
      "application/vnd.jupyter.widget-view+json": {
       "model_id": "9809de9d953d49b28ac84b68319a2aef",
       "version_major": 2,
       "version_minor": 0
      },
      "text/plain": [
       "HypernetxWidget(component='HypernetxWidget', props={'nodes': [{'uid': 'TH'}, {'uid': 'MP'}, {'uid': 'FN'}, {'u…"
      ]
     },
     "metadata": {},
     "output_type": "display_data"
    }
   ],
   "source": [
    "example4 = HypernetxWidget(\n",
    "    H,\n",
    "    collapse_nodes=True,\n",
    "    node_data=dnames,\n",
    "    node_labels={'JV': 'Valjean'},\n",
    "    edge_labels={0: 'scene 0'},\n",
    "    nodes_kwargs={'color':'pink'},\n",
    ")\n",
    "\n",
    "example4"
   ]
  },
  {
   "cell_type": "markdown",
   "metadata": {},
   "source": [
    "## Using Hypergraph's metadata"
   ]
  },
  {
   "cell_type": "code",
   "execution_count": 8,
   "metadata": {
    "ExecuteTime": {
     "end_time": "2024-05-16T22:23:20.554709Z",
     "start_time": "2024-05-16T22:23:20.528041Z"
    }
   },
   "outputs": [
    {
     "data": {
      "text/html": [
       "<div>\n",
       "<style scoped>\n",
       "    .dataframe tbody tr th:only-of-type {\n",
       "        vertical-align: middle;\n",
       "    }\n",
       "\n",
       "    .dataframe tbody tr th {\n",
       "        vertical-align: top;\n",
       "    }\n",
       "\n",
       "    .dataframe thead th {\n",
       "        text-align: right;\n",
       "    }\n",
       "</style>\n",
       "<table border=\"1\" class=\"dataframe\">\n",
       "  <thead>\n",
       "    <tr style=\"text-align: right;\">\n",
       "      <th></th>\n",
       "      <th>weight</th>\n",
       "      <th>FullName</th>\n",
       "      <th>Description</th>\n",
       "      <th>misc_properties</th>\n",
       "    </tr>\n",
       "    <tr>\n",
       "      <th>uid</th>\n",
       "      <th></th>\n",
       "      <th></th>\n",
       "      <th></th>\n",
       "      <th></th>\n",
       "    </tr>\n",
       "  </thead>\n",
       "  <tbody>\n",
       "    <tr>\n",
       "      <th>FN</th>\n",
       "      <td>1</td>\n",
       "      <td>Fantine</td>\n",
       "      <td>lover of FT</td>\n",
       "      <td>{}</td>\n",
       "    </tr>\n",
       "    <tr>\n",
       "      <th>TH</th>\n",
       "      <td>1</td>\n",
       "      <td>Th\\'enardier</td>\n",
       "      <td>sergeant of Waterloo and keeper of a chophouse</td>\n",
       "      <td>{}</td>\n",
       "    </tr>\n",
       "    <tr>\n",
       "      <th>JV</th>\n",
       "      <td>1</td>\n",
       "      <td>Jean Valjean</td>\n",
       "      <td>thief of bread</td>\n",
       "      <td>{}</td>\n",
       "    </tr>\n",
       "    <tr>\n",
       "      <th>BM</th>\n",
       "      <td>1</td>\n",
       "      <td>Monsieur Bamatabois</td>\n",
       "      <td>idler of M-- sur M--</td>\n",
       "      <td>{}</td>\n",
       "    </tr>\n",
       "    <tr>\n",
       "      <th>JA</th>\n",
       "      <td>1</td>\n",
       "      <td>Javert</td>\n",
       "      <td>police officer of M-- sur M--</td>\n",
       "      <td>{}</td>\n",
       "    </tr>\n",
       "    <tr>\n",
       "      <th>JU</th>\n",
       "      <td>1</td>\n",
       "      <td>Judge of Douai</td>\n",
       "      <td>judge at the court trying CH</td>\n",
       "      <td>{}</td>\n",
       "    </tr>\n",
       "    <tr>\n",
       "      <th>CH</th>\n",
       "      <td>1</td>\n",
       "      <td>Champmathieu</td>\n",
       "      <td>accused thief mistaken for JV</td>\n",
       "      <td>{}</td>\n",
       "    </tr>\n",
       "    <tr>\n",
       "      <th>BR</th>\n",
       "      <td>1</td>\n",
       "      <td>Brevet</td>\n",
       "      <td>convict in the galleys with JV</td>\n",
       "      <td>{}</td>\n",
       "    </tr>\n",
       "    <tr>\n",
       "      <th>CN</th>\n",
       "      <td>1</td>\n",
       "      <td>Chenildieu</td>\n",
       "      <td>convict in the galleys with JV</td>\n",
       "      <td>{}</td>\n",
       "    </tr>\n",
       "    <tr>\n",
       "      <th>CC</th>\n",
       "      <td>1</td>\n",
       "      <td>Cochepaille</td>\n",
       "      <td>convict in the galleys with JV</td>\n",
       "      <td>{}</td>\n",
       "    </tr>\n",
       "    <tr>\n",
       "      <th>GP</th>\n",
       "      <td>1</td>\n",
       "      <td>George Pontmercy</td>\n",
       "      <td>father of MA and son-in-law of GI</td>\n",
       "      <td>{}</td>\n",
       "    </tr>\n",
       "    <tr>\n",
       "      <th>MP</th>\n",
       "      <td>1</td>\n",
       "      <td>Madame Pontmercy</td>\n",
       "      <td>younger daughter of GI</td>\n",
       "      <td>{}</td>\n",
       "    </tr>\n",
       "    <tr>\n",
       "      <th>MA</th>\n",
       "      <td>1</td>\n",
       "      <td>Marius</td>\n",
       "      <td>grandson of GI</td>\n",
       "      <td>{}</td>\n",
       "    </tr>\n",
       "  </tbody>\n",
       "</table>\n",
       "</div>"
      ],
      "text/plain": [
       "     weight             FullName  \\\n",
       "uid                                \n",
       "FN        1              Fantine   \n",
       "TH        1         Th\\'enardier   \n",
       "JV        1         Jean Valjean   \n",
       "BM        1  Monsieur Bamatabois   \n",
       "JA        1               Javert   \n",
       "JU        1       Judge of Douai   \n",
       "CH        1         Champmathieu   \n",
       "BR        1               Brevet   \n",
       "CN        1           Chenildieu   \n",
       "CC        1          Cochepaille   \n",
       "GP        1     George Pontmercy   \n",
       "MP        1     Madame Pontmercy   \n",
       "MA        1               Marius   \n",
       "\n",
       "                                         Description misc_properties  \n",
       "uid                                                                   \n",
       "FN                                       lover of FT              {}  \n",
       "TH    sergeant of Waterloo and keeper of a chophouse              {}  \n",
       "JV                                    thief of bread              {}  \n",
       "BM                              idler of M-- sur M--              {}  \n",
       "JA                     police officer of M-- sur M--              {}  \n",
       "JU                      judge at the court trying CH              {}  \n",
       "CH                     accused thief mistaken for JV              {}  \n",
       "BR                    convict in the galleys with JV              {}  \n",
       "CN                    convict in the galleys with JV              {}  \n",
       "CC                    convict in the galleys with JV              {}  \n",
       "GP                 father of MA and son-in-law of GI              {}  \n",
       "MP                            younger daughter of GI              {}  \n",
       "MA                                    grandson of GI              {}  "
      ]
     },
     "execution_count": 8,
     "metadata": {},
     "output_type": "execute_result"
    }
   ],
   "source": [
    "node_properties = dnames.reset_index()\n",
    "H2 = hnx.Hypergraph(H.dataframe, node_properties=node_properties)\n",
    "\n",
    "H2.nodes.dataframe"
   ]
  },
  {
   "cell_type": "code",
   "execution_count": 9,
   "metadata": {
    "ExecuteTime": {
     "end_time": "2024-05-16T22:23:21.109029Z",
     "start_time": "2024-05-16T22:23:21.086440Z"
    }
   },
   "outputs": [
    {
     "name": "stdout",
     "output_type": "stream",
     "text": [
      "     weight             FullName  \\\n",
      "uid                                \n",
      "FN        1              Fantine   \n",
      "TH        1         Th\\'enardier   \n",
      "JV        1         Jean Valjean   \n",
      "BM        1  Monsieur Bamatabois   \n",
      "JA        1               Javert   \n",
      "JU        1       Judge of Douai   \n",
      "CH        1         Champmathieu   \n",
      "BR        1               Brevet   \n",
      "CN        1           Chenildieu   \n",
      "CC        1          Cochepaille   \n",
      "GP        1     George Pontmercy   \n",
      "MP        1     Madame Pontmercy   \n",
      "MA        1               Marius   \n",
      "\n",
      "                                         Description  degree misc_properties  \n",
      "uid                                                                           \n",
      "FN                                       lover of FT       2              {}  \n",
      "TH    sergeant of Waterloo and keeper of a chophouse       3              {}  \n",
      "JV                                    thief of bread       3              {}  \n",
      "BM                              idler of M-- sur M--       3              {}  \n",
      "JA                     police officer of M-- sur M--       1              {}  \n",
      "JU                      judge at the court trying CH       2              {}  \n",
      "CH                     accused thief mistaken for JV       2              {}  \n",
      "BR                    convict in the galleys with JV       1              {}  \n",
      "CN                    convict in the galleys with JV       1              {}  \n",
      "CC                    convict in the galleys with JV       1              {}  \n",
      "GP                 father of MA and son-in-law of GI       3              {}  \n",
      "MP                            younger daughter of GI       1              {}  \n",
      "MA                                    grandson of GI       1              {}  \n",
      "\n",
      "    weight size misc_properties\n",
      "uid                            \n",
      "0        1    2              {}\n",
      "1        1    2              {}\n",
      "2        1    3              {}\n",
      "3        1    4              {}\n",
      "4        1    7              {}\n",
      "5        1    2              {}\n",
      "6        1    2              {}\n",
      "7        1    2              {}\n"
     ]
    }
   ],
   "source": [
    "## to add an additional property column to nodes and edges, first set a default value, then change the \n",
    "## value for individual objects:\n",
    "\n",
    "H2.nodes.set_defaults({'degree':0})\n",
    "for nd in H2.nodes:\n",
    "    H2.nodes[nd].degree = H2.degree(nd)\n",
    "    \n",
    "H2.edges.set_defaults({'size':0})\n",
    "for ed in H2.edges:\n",
    "    H2.edges[ed].size = H2.size(ed)\n",
    "    \n",
    "print(H2.nodes.dataframe)\n",
    "print()\n",
    "print(H2.edges.dataframe)"
   ]
  },
  {
   "cell_type": "code",
   "execution_count": 10,
   "metadata": {
    "ExecuteTime": {
     "end_time": "2024-05-16T22:23:21.748473Z",
     "start_time": "2024-05-16T22:23:21.723634Z"
    }
   },
   "outputs": [
    {
     "name": "stderr",
     "output_type": "stream",
     "text": [
      "/opt/miniconda3/envs/hnx2/lib/python3.10/site-packages/pandas/core/dtypes/cast.py:1641: DeprecationWarning: np.find_common_type is deprecated.  Please use `np.result_type` or `np.promote_types`.\n",
      "See https://numpy.org/devdocs/release/1.25.0-notes.html and the docs for more information.  (Deprecated NumPy 1.25)\n",
      "  return np.find_common_type(types, [])\n",
      "/opt/miniconda3/envs/hnx2/lib/python3.10/site-packages/pandas/core/dtypes/cast.py:1641: DeprecationWarning: np.find_common_type is deprecated.  Please use `np.result_type` or `np.promote_types`.\n",
      "See https://numpy.org/devdocs/release/1.25.0-notes.html and the docs for more information.  (Deprecated NumPy 1.25)\n",
      "  return np.find_common_type(types, [])\n",
      "/opt/miniconda3/envs/hnx2/lib/python3.10/site-packages/ipywidgets/widgets/widget.py:438: DeprecationWarning: The `ipykernel.comm.Comm` class has been deprecated. Please use the `comm` module instead.For creating comms, use the function `from comm import create_comm`.\n",
      "  self.comm = Comm(**args)\n"
     ]
    },
    {
     "data": {
      "application/vnd.jupyter.widget-view+json": {
       "model_id": "14d3751aad0d4bf48f97e2fd955ef64b",
       "version_major": 2,
       "version_minor": 0
      },
      "text/plain": [
       "HypernetxWidget(component='HypernetxWidget', props={'nodes': [{'uid': 'TH'}, {'uid': 'MP'}, {'uid': 'FN'}, {'u…"
      ]
     },
     "metadata": {},
     "output_type": "display_data"
    }
   ],
   "source": [
    "### All of the data in the property dataframes may be used in the widget except for the misc_properties\n",
    "### Hover over nodes and edges to see the data associated with the object\n",
    "\n",
    "node_colors = {nd: plt.cm.Set1(H2.nodes[nd].degree) for nd in H2.nodes}\n",
    "edge_colors = {ed: plt.cm.Set1(H2.edges[ed].size) for ed in H2.edges}\n",
    "\n",
    "example5 = HypernetxWidget(\n",
    "    H2,\n",
    "    collapse_nodes=True,\n",
    "    node_data=H2.nodes.dataframe[['weight', 'FullName', 'Description', 'degree']],\n",
    "    edge_data=H2.edges.dataframe[['weight','size']],\n",
    "    node_labels={'JV': 'Valjean'},\n",
    "    edge_labels={0: 'scene 0'},\n",
    "    nodes_kwargs={'color':node_colors},\n",
    "    edges_kwargs={'edgecolors':edge_colors}\n",
    ")\n",
    "example5"
   ]
  },
  {
   "cell_type": "code",
   "execution_count": null,
   "metadata": {},
   "outputs": [],
   "source": []
  },
  {
   "cell_type": "code",
   "execution_count": null,
   "metadata": {},
   "outputs": [],
   "source": []
  }
 ],
 "metadata": {
  "kernelspec": {
   "display_name": "Python 3 (ipykernel)",
   "language": "python",
   "name": "python3"
  },
  "language_info": {
   "codemirror_mode": {
    "name": "ipython",
    "version": 3
   },
   "file_extension": ".py",
   "mimetype": "text/x-python",
   "name": "python",
   "nbconvert_exporter": "python",
   "pygments_lexer": "ipython3",
   "version": "3.10.14"
  },
  "toc": {
   "base_numbering": 1,
   "nav_menu": {},
   "number_sections": true,
   "sideBar": true,
   "skip_h1_title": false,
   "title_cell": "Table of Contents",
   "title_sidebar": "Contents",
   "toc_cell": false,
   "toc_position": {},
   "toc_section_display": true,
   "toc_window_display": false
  }
 },
 "nbformat": 4,
 "nbformat_minor": 2
}
