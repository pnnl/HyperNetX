{
 "cells": [
  {
   "cell_type": "code",
   "execution_count": 1,
   "metadata": {
    "ExecuteTime": {
     "end_time": "2024-05-16T22:55:25.104450Z",
     "start_time": "2024-05-16T22:55:22.612423Z"
    },
    "execution": {
     "iopub.execute_input": "2025-02-21T22:43:32.478396Z",
     "iopub.status.busy": "2025-02-21T22:43:32.478150Z",
     "iopub.status.idle": "2025-02-21T22:43:34.568314Z",
     "shell.execute_reply": "2025-02-21T22:43:34.568044Z",
     "shell.execute_reply.started": "2025-02-21T22:43:32.478374Z"
    }
   },
   "outputs": [],
   "source": [
    "import hypernetx as hnx\n",
    "import hypernetx.algorithms.hypergraph_modularity as hmod\n",
    "import hypernetx.algorithms.generative_models as gm\n",
    "import matplotlib.pyplot as plt\n",
    "import pandas as pd\n",
    "import numpy as np\n",
    "import pickle\n",
    "import random\n",
    "import igraph as ig\n",
    "import warnings\n",
    "warnings.simplefilter('ignore')"
   ]
  },
  {
   "cell_type": "markdown",
   "metadata": {
    "jp-MarkdownHeadingCollapsed": true
   },
   "source": [
    "# Main functions for Hypergraph Modularity using HyperNetX\n",
    "\n",
    "\n",
    "### hypergraph modularity (qH)\n",
    "\n",
    "The function to compute the h-modularity of hypergraph H with respect to a partition A (list of sets covering the vertices):\n",
    "\n",
    "```python\n",
    "hmod.hypergraph_modularity(H, A, wcd=hmod.linear)\n",
    "```\n",
    "\n",
    "where 'wcd' is the weight function (default = 'linear'). Other choices are 'strict'\n",
    "and 'majority', or any user-supplied function with the following format:\n",
    "\n",
    "```python\n",
    "def quad(d,c):\n",
    "    return (c/d)**2 if c>d/2 else 0\n",
    "hmod.hypergraph_modularity(H, A, wcd=quad)\n",
    "```\n",
    "\n",
    "where $d$ is the edge size, and $c$ is the number of nodes in the majority class, $d \\geq c > \\frac{d}{2}$\n",
    "\n",
    "### Two-section graph\n",
    "\n",
    "Build the random-walk based $2$-section graph given some hypergraph H:\n",
    "\n",
    "```python\n",
    "G = hmod.two_section(H)\n",
    "```\n",
    "\n",
    "where G is an igraph graph.\n",
    "\n",
    "### Clustering: Kumar algorithm\n",
    "\n",
    "Given hypergraph H, compute a partition of the vertices as per Kumar's algorithm described in [1].\n",
    "\n",
    "```python\n",
    "K = hmod.kumar(H, delta=.01)\n",
    "```\n",
    "\n",
    "where delta is the convergence stopping criterion. Partition is returned as a list of sets.\n",
    "\n",
    "[1] Kumar T., Vaidyanathan S., Ananthapadmanabhan H., Parthasarathy S., Ravindran B. (2020) *A New Measure of Modularity in Hypergraphs: Theoretical Insights and Implications for Effective Clustering*. In: Cherifi H., Gaito S., Mendes J., Moro E., Rocha L. (eds) Complex Networks and Their Applications VIII. COMPLEX NETWORKS 2019. Studies in Computational Intelligence, vol 881. Springer, Cham. https://doi.org/10.1007/978-3-030-36687-2_24\n",
    "\n",
    "\n",
    "### Clustering: Simple qH-based algorithm\n",
    "\n",
    "Given hypergraph H and initial partition A, compute a partition of the vertices as per Last-Step algorithm described in [2].\n",
    "\n",
    "```python\n",
    "LS = hmod.last_step(H, A, wdc=hmod.linear, delta = .01)\n",
    "```\n",
    "\n",
    "where 'wcd' is the the weight function (default = 'linear') and delta is the convergence stopping criterion.\n",
    "Returned partition is a list of sets.\n",
    "\n",
    "[2] Kamiński B., Prałat P. and Théberge F. “Community Detection Algorithm Using Hypergraph Modularity”. In: Benito R.M., Cherifi C., Cherifi H., Moro E., Rocha L.M., Sales-Pardo M. (eds) Complex Networks & Their Applications IX. COMPLEX NETWORKS 2020. Studies in Computational Intelligence, vol 943. Springer, Cham. https://doi.org/10.1007/978-3-030-65347-7_13\n",
    "\n",
    "### Utility functions\n",
    "\n",
    "We use two representations for partitions: list of sets (the parts) or dictionary.\n",
    "Those functions are used to map from one to the other:\n",
    "\n",
    "```python\n",
    "hmod.dict2part(D)\n",
    "hmod.part2dict(A)\n",
    "```"
   ]
  },
  {
   "cell_type": "markdown",
   "metadata": {},
   "source": [
    "# Toy example"
   ]
  },
  {
   "cell_type": "code",
   "execution_count": 2,
   "metadata": {
    "ExecuteTime": {
     "end_time": "2024-05-16T22:55:29.020997Z",
     "start_time": "2024-05-16T22:55:28.976675Z"
    },
    "execution": {
     "iopub.execute_input": "2025-02-21T22:43:34.568970Z",
     "iopub.status.busy": "2025-02-21T22:43:34.568783Z",
     "iopub.status.idle": "2025-02-21T22:43:34.585252Z",
     "shell.execute_reply": "2025-02-21T22:43:34.585020Z",
     "shell.execute_reply.started": "2025-02-21T22:43:34.568961Z"
    }
   },
   "outputs": [
    {
     "data": {
      "text/html": [
       "<div>\n",
       "<style scoped>\n",
       "    .dataframe tbody tr th:only-of-type {\n",
       "        vertical-align: middle;\n",
       "    }\n",
       "\n",
       "    .dataframe tbody tr th {\n",
       "        vertical-align: top;\n",
       "    }\n",
       "\n",
       "    .dataframe thead th {\n",
       "        text-align: right;\n",
       "    }\n",
       "</style>\n",
       "<table border=\"1\" class=\"dataframe\">\n",
       "  <thead>\n",
       "    <tr style=\"text-align: right;\">\n",
       "      <th></th>\n",
       "      <th>weight</th>\n",
       "      <th>misc_properties</th>\n",
       "    </tr>\n",
       "  </thead>\n",
       "  <tbody>\n",
       "    <tr>\n",
       "      <th>F</th>\n",
       "      <td>1</td>\n",
       "      <td>{}</td>\n",
       "    </tr>\n",
       "    <tr>\n",
       "      <th>A</th>\n",
       "      <td>1</td>\n",
       "      <td>{}</td>\n",
       "    </tr>\n",
       "    <tr>\n",
       "      <th>C</th>\n",
       "      <td>1</td>\n",
       "      <td>{}</td>\n",
       "    </tr>\n",
       "    <tr>\n",
       "      <th>B</th>\n",
       "      <td>1</td>\n",
       "      <td>{}</td>\n",
       "    </tr>\n",
       "    <tr>\n",
       "      <th>D</th>\n",
       "      <td>1</td>\n",
       "      <td>{}</td>\n",
       "    </tr>\n",
       "    <tr>\n",
       "      <th>E</th>\n",
       "      <td>1</td>\n",
       "      <td>{}</td>\n",
       "    </tr>\n",
       "    <tr>\n",
       "      <th>G</th>\n",
       "      <td>1</td>\n",
       "      <td>{}</td>\n",
       "    </tr>\n",
       "    <tr>\n",
       "      <th>0</th>\n",
       "      <td>1</td>\n",
       "      <td>{}</td>\n",
       "    </tr>\n",
       "    <tr>\n",
       "      <th>1</th>\n",
       "      <td>1</td>\n",
       "      <td>{}</td>\n",
       "    </tr>\n",
       "    <tr>\n",
       "      <th>2</th>\n",
       "      <td>1</td>\n",
       "      <td>{}</td>\n",
       "    </tr>\n",
       "    <tr>\n",
       "      <th>3</th>\n",
       "      <td>1</td>\n",
       "      <td>{}</td>\n",
       "    </tr>\n",
       "    <tr>\n",
       "      <th>4</th>\n",
       "      <td>1</td>\n",
       "      <td>{}</td>\n",
       "    </tr>\n",
       "    <tr>\n",
       "      <th>5</th>\n",
       "      <td>1</td>\n",
       "      <td>{}</td>\n",
       "    </tr>\n",
       "    <tr>\n",
       "      <th>6</th>\n",
       "      <td>1</td>\n",
       "      <td>{}</td>\n",
       "    </tr>\n",
       "    <tr>\n",
       "      <th>7</th>\n",
       "      <td>1</td>\n",
       "      <td>{}</td>\n",
       "    </tr>\n",
       "  </tbody>\n",
       "</table>\n",
       "</div>"
      ],
      "text/plain": [
       "  weight misc_properties\n",
       "F      1              {}\n",
       "A      1              {}\n",
       "C      1              {}\n",
       "B      1              {}\n",
       "D      1              {}\n",
       "E      1              {}\n",
       "G      1              {}\n",
       "0      1              {}\n",
       "1      1              {}\n",
       "2      1              {}\n",
       "3      1              {}\n",
       "4      1              {}\n",
       "5      1              {}\n",
       "6      1              {}\n",
       "7      1              {}"
      ]
     },
     "execution_count": 2,
     "metadata": {},
     "output_type": "execute_result"
    }
   ],
   "source": [
    "## build a hypergraph from a list of sets (the hyperedges)\n",
    "E = [{'A','B'},{'A','C'},{'A','B','C'},{'A','D','E','F'},{'D','F'},{'E','F'},{'B'},{'G','B'}]\n",
    "kwargs = {'layout_kwargs': {'seed': 42}}\n",
    "Toy = hnx.Hypergraph(dict(enumerate(E)))\n",
    "### Note that nodes and edges have weight = 1 by default\n",
    "pd.concat([Toy.nodes.to_dataframe,Toy.edges.to_dataframe])"
   ]
  },
  {
   "cell_type": "code",
   "execution_count": 3,
   "metadata": {
    "ExecuteTime": {
     "end_time": "2024-05-16T22:55:29.986095Z",
     "start_time": "2024-05-16T22:55:29.785660Z"
    },
    "execution": {
     "iopub.execute_input": "2025-02-21T22:43:34.586457Z",
     "iopub.status.busy": "2025-02-21T22:43:34.586366Z",
     "iopub.status.idle": "2025-02-21T22:43:34.663672Z",
     "shell.execute_reply": "2025-02-21T22:43:34.663418Z",
     "shell.execute_reply.started": "2025-02-21T22:43:34.586451Z"
    }
   },
   "outputs": [
    {
     "data": {
      "image/png": "[encoded data removed]",
      "text/plain": [
       "<Figure size 600x500 with 1 Axes>"
      ]
     },
     "metadata": {},
     "output_type": "display_data"
    }
   ],
   "source": [
    "plt.figure(figsize=(6,5))\n",
    "hnx.draw(Toy, **kwargs)"
   ]
  },
  {
   "cell_type": "markdown",
   "metadata": {},
   "source": [
    "# hypergraph modularity qH\n",
    "\n",
    "We compute qH on the toy graph for 4 different partitions, and using different variations for the edge contribution.\n",
    "\n",
    "For edges of size $d$ where $c$ is the number of nodes from the part with the most representatives, we consider  variations as follows for edge contribution:\n",
    "\n",
    "* **strict**: edges are considered only if all nodes are from the same part, with unit weight, i.e. $w$ = 1 iff $c == d$ (0 else).\n",
    "* **cubic**: edges are counted only if more that half the nodes are from the same part, with weights proportional to the cube of the number of nodes in the majority, i.e. $w = (c/d)^3$ iff $c>d/2$ (0 else).\n",
    "* **quadratic**: edges are counted only if more that half the nodes are from the same part, with weights proportional to the square of the number of nodes in the majority, i.e. $w = (c/d)^2$ iff $c>d/2$ (0 else).\n",
    "* **linear**: edges are counted only if more that half the nodes are from the same part, with weights proportional to the number of nodes in the majority, i.e. $w = c/d$ iff $c>d/2$ (0 else).\n",
    "* **majority**: edges are counted only if more that half the nodes are from the same part, with unit weights, i.e. $w$ = 1 iff $c>d/2$ (0 else).\n",
    "\n",
    "Some of the above are supplied with the `hmod` module, the **qH2** and **qH3** functions are examples of user-supplied choice.\n",
    "\n",
    "The order above goes from only counting \"pure\" edges as community edges, gradually giving more weight to edges with $c>d/2$, all the way to giving the the same weights.\n",
    "\n",
    "    \n"
   ]
  },
  {
   "cell_type": "code",
   "execution_count": 4,
   "metadata": {
    "ExecuteTime": {
     "end_time": "2024-05-16T22:55:32.100737Z",
     "start_time": "2024-05-16T22:55:32.038550Z"
    },
    "execution": {
     "iopub.execute_input": "2025-02-21T22:43:34.664218Z",
     "iopub.status.busy": "2025-02-21T22:43:34.664140Z",
     "iopub.status.idle": "2025-02-21T22:43:34.694778Z",
     "shell.execute_reply": "2025-02-21T22:43:34.694522Z",
     "shell.execute_reply.started": "2025-02-21T22:43:34.664211Z"
    }
   },
   "outputs": [
    {
     "name": "stdout",
     "output_type": "stream",
     "text": [
      "strict edge contribution:\n",
      "qH(A1): 0.3659 qH(A2): -0.0401 qH(A3): 0.0000 qH(A4): -0.1088\n",
      "\n",
      "cubic edge contribution:\n",
      "qH(A1): 0.3659 qH(A2): -0.0538 qH(A3): 0.0000 qH(A4): -0.1291\n",
      "\n",
      "quadratic edge contribution:\n",
      "qH(A1): 0.3615 qH(A2): -0.0563 qH(A3): 0.0000 qH(A4): -0.1384\n",
      "\n",
      "linear edge contribution:\n",
      "qH(A1): 0.3535 qH(A2): -0.0586 qH(A3): 0.0000 qH(A4): -0.1520\n",
      "\n",
      "majority edge contribution:\n",
      "qH(A1): 0.3394 qH(A2): -0.0602 qH(A3): 0.0000 qH(A4): -0.1721\n"
     ]
    }
   ],
   "source": [
    "## Examples of user-supplied weight functions \n",
    "## square modularity \n",
    "def qH2(d,c):\n",
    "    return (c/d)**2 if c > d/2 else 0\n",
    "## cubic modularity\n",
    "def qH3(d,c):\n",
    "    return (c/d)**3 if c > d/2 else 0\n",
    "\n",
    "## compute hypergraph modularity (qH) for the following partitions:\n",
    "A1 = [{'A','B','C','G'},{'D','E','F'}]            ## good clustering, qH should be positive\n",
    "A2 = [{'B','C'},{'A','D','E','F','G'}]            ## not so good\n",
    "A3 = [{'A','B','C','D','E','F','G'}]              ## this should yield qH == 0\n",
    "A4 = [{'A'},{'B'},{'C'},{'D'},{'E'},{'F'},{'G'}]  ## qH should be negative here\n",
    "\n",
    "## we compute with different choices of functions for the edge contribution\n",
    "\n",
    "print('strict edge contribution:')\n",
    "print('qH(A1):',\"{:.4f}\".format(hmod.modularity(Toy,A1,hmod.strict)),\n",
    "      'qH(A2):',\"{:.4f}\".format(hmod.modularity(Toy,A2,hmod.strict)),\n",
    "      'qH(A3):',\"{:.4f}\".format(hmod.modularity(Toy,A3,hmod.strict)),\n",
    "      'qH(A4):',\"{:.4f}\".format(hmod.modularity(Toy,A4,hmod.strict)))\n",
    "print('\\ncubic edge contribution:')\n",
    "print('qH(A1):',\"{:.4f}\".format(hmod.modularity(Toy,A1,qH3)),\n",
    "      'qH(A2):',\"{:.4f}\".format(hmod.modularity(Toy,A2,qH3)),\n",
    "      'qH(A3):',\"{:.4f}\".format(hmod.modularity(Toy,A3,qH3)),\n",
    "      'qH(A4):',\"{:.4f}\".format(hmod.modularity(Toy,A4,qH3)))\n",
    "print('\\nquadratic edge contribution:')\n",
    "print('qH(A1):',\"{:.4f}\".format(hmod.modularity(Toy,A1,qH2)),\n",
    "      'qH(A2):',\"{:.4f}\".format(hmod.modularity(Toy,A2,qH2)),\n",
    "      'qH(A3):',\"{:.4f}\".format(hmod.modularity(Toy,A3,qH2)),\n",
    "      'qH(A4):',\"{:.4f}\".format(hmod.modularity(Toy,A4,qH2)))\n",
    "print('\\nlinear edge contribution:')\n",
    "print('qH(A1):',\"{:.4f}\".format(hmod.modularity(Toy,A1,hmod.linear)),\n",
    "      'qH(A2):',\"{:.4f}\".format(hmod.modularity(Toy,A2,hmod.linear)),\n",
    "      'qH(A3):',\"{:.4f}\".format(hmod.modularity(Toy,A3,hmod.linear)),\n",
    "      'qH(A4):',\"{:.4f}\".format(hmod.modularity(Toy,A4,hmod.linear)))\n",
    "print('\\nmajority edge contribution:')\n",
    "print('qH(A1):',\"{:.4f}\".format(hmod.modularity(Toy,A1,hmod.majority)),\n",
    "      'qH(A2):',\"{:.4f}\".format(hmod.modularity(Toy,A2,hmod.majority)),\n",
    "      'qH(A3):',\"{:.4f}\".format(hmod.modularity(Toy,A3,hmod.majority)),\n",
    "      'qH(A4):',\"{:.4f}\".format(hmod.modularity(Toy,A4,hmod.majority)));\n"
   ]
  },
  {
   "cell_type": "code",
   "execution_count": 5,
   "metadata": {
    "ExecuteTime": {
     "end_time": "2024-05-16T22:55:33.325700Z",
     "start_time": "2024-05-16T22:55:33.218485Z"
    },
    "execution": {
     "iopub.execute_input": "2025-02-21T22:43:34.695206Z",
     "iopub.status.busy": "2025-02-21T22:43:34.695136Z",
     "iopub.status.idle": "2025-02-21T22:43:34.758610Z",
     "shell.execute_reply": "2025-02-21T22:43:34.758351Z",
     "shell.execute_reply.started": "2025-02-21T22:43:34.695199Z"
    }
   },
   "outputs": [
    {
     "data": {
      "image/png": "[encoded data removed]",
      "text/plain": [
       "<Figure size 600x600 with 1 Axes>"
      ]
     },
     "metadata": {},
     "output_type": "display_data"
    }
   ],
   "source": [
    "## 2-section graph\n",
    "G = hmod.two_section(Toy)\n",
    "G.vs['label'] = G.vs['name']\n",
    "fig, ax = plt.subplots(figsize=(6,6))\n",
    "ig.plot(G, target=ax, vertex_color='lightblue',edge_width = 2*np.array(G.es['weight']));"
   ]
  },
  {
   "cell_type": "markdown",
   "metadata": {},
   "source": [
    "### clustering the toy graph\n",
    "\n",
    "Looking at the plots above, we see a 4-clique for the 2-section graph, which most graph clustering algorithms should recover as a part if edge weights are ignored. \n",
    "However, looking at the hypergraph itself, nodes A-B-C are more tightly connected, and a hypergraph-based algorithm is likely to keep those together.\n"
   ]
  },
  {
   "cell_type": "code",
   "execution_count": 6,
   "metadata": {
    "ExecuteTime": {
     "end_time": "2024-05-16T22:55:36.112747Z",
     "start_time": "2024-05-16T22:55:36.103472Z"
    },
    "execution": {
     "iopub.execute_input": "2025-02-21T22:43:34.759269Z",
     "iopub.status.busy": "2025-02-21T22:43:34.759190Z",
     "iopub.status.idle": "2025-02-21T22:43:34.761966Z",
     "shell.execute_reply": "2025-02-21T22:43:34.761716Z",
     "shell.execute_reply.started": "2025-02-21T22:43:34.759262Z"
    }
   },
   "outputs": [
    {
     "data": {
      "text/plain": [
       "[{'A', 'D', 'E', 'F'}, {'B', 'C', 'G'}]"
      ]
     },
     "execution_count": 6,
     "metadata": {},
     "output_type": "execute_result"
    }
   ],
   "source": [
    "## 2-section clustering with Leiden - ignoring edge weights\n",
    "G.vs['community'] = G.community_leiden(objective_function='modularity').membership\n",
    "hmod.dict2part({v['name']:v['community'] for v in G.vs})\n"
   ]
  },
  {
   "cell_type": "code",
   "execution_count": 7,
   "metadata": {
    "ExecuteTime": {
     "end_time": "2024-05-16T22:55:37.094754Z",
     "start_time": "2024-05-16T22:55:37.084540Z"
    },
    "execution": {
     "iopub.execute_input": "2025-02-21T22:43:34.762361Z",
     "iopub.status.busy": "2025-02-21T22:43:34.762295Z",
     "iopub.status.idle": "2025-02-21T22:43:34.766962Z",
     "shell.execute_reply": "2025-02-21T22:43:34.766677Z",
     "shell.execute_reply.started": "2025-02-21T22:43:34.762354Z"
    }
   },
   "outputs": [
    {
     "data": {
      "text/plain": [
       "[{'A', 'B', 'C', 'G'}, {'D', 'E', 'F'}]"
      ]
     },
     "execution_count": 7,
     "metadata": {},
     "output_type": "execute_result"
    }
   ],
   "source": [
    "## 2-section clustering with Leiden - with edge weights\n",
    "G.vs['community'] = G.community_leiden(objective_function='modularity', weights='weight').membership\n",
    "hmod.dict2part({v['name']:v['community'] for v in G.vs})\n"
   ]
  },
  {
   "cell_type": "code",
   "execution_count": 8,
   "metadata": {
    "ExecuteTime": {
     "end_time": "2024-05-16T22:55:38.113563Z",
     "start_time": "2024-05-16T22:55:38.086216Z"
    },
    "execution": {
     "iopub.execute_input": "2025-02-21T22:43:34.767453Z",
     "iopub.status.busy": "2025-02-21T22:43:34.767367Z",
     "iopub.status.idle": "2025-02-21T22:43:34.775983Z",
     "shell.execute_reply": "2025-02-21T22:43:34.775725Z",
     "shell.execute_reply.started": "2025-02-21T22:43:34.767446Z"
    }
   },
   "outputs": [
    {
     "data": {
      "text/plain": [
       "[{'A', 'B', 'C', 'G'}, {'D', 'E', 'F'}]"
      ]
     },
     "execution_count": 8,
     "metadata": {},
     "output_type": "execute_result"
    }
   ],
   "source": [
    "## Clustering with Kumar's algorithm\n",
    "hmod.kumar(Toy)\n"
   ]
  },
  {
   "cell_type": "code",
   "execution_count": 9,
   "metadata": {
    "ExecuteTime": {
     "end_time": "2024-05-16T22:55:39.181271Z",
     "start_time": "2024-05-16T22:55:39.156219Z"
    },
    "execution": {
     "iopub.execute_input": "2025-02-21T22:43:34.776578Z",
     "iopub.status.busy": "2025-02-21T22:43:34.776444Z",
     "iopub.status.idle": "2025-02-21T22:43:34.822527Z",
     "shell.execute_reply": "2025-02-21T22:43:34.822239Z",
     "shell.execute_reply.started": "2025-02-21T22:43:34.776563Z"
    }
   },
   "outputs": [
    {
     "name": "stdout",
     "output_type": "stream",
     "text": [
      "start from: [{'A'}, {'B'}, {'C'}, {'D'}, {'E'}, {'F'}, {'G'}]\n",
      "final partition: [{'A', 'G', 'C', 'B'}, {'F', 'D', 'E'}]\n"
     ]
    }
   ],
   "source": [
    "## hypergraph clustering -- start from trivial partition A4 defined above\n",
    "print('start from:', A4)\n",
    "A = hmod.last_step(Toy, A4)\n",
    "A = [s for s in A if len(s)>0] ## drop empty parts\n",
    "print('final partition:',A)\n"
   ]
  },
  {
   "cell_type": "markdown",
   "metadata": {},
   "source": [
    "# Chung-Lu hypergraph example\n",
    "\n",
    "We build a Chung-Lu hypergraph and compute modularity for partitions from 3 algorithms:\n",
    "* Louvain, on the 2-section graph\n",
    "* Kumar algorithm\n",
    "* LastStep algorithm\n",
    "\n",
    "We use the **strict** modularity, so only edges where all vertices are in the same part will add to the modularity.\n",
    "For each algorithm, we compute the modularity qH and compare with the number of edges where all vertices are in the same part.\n"
   ]
  },
  {
   "cell_type": "code",
   "execution_count": 10,
   "metadata": {
    "ExecuteTime": {
     "end_time": "2024-05-16T22:55:41.857974Z",
     "start_time": "2024-05-16T22:55:41.813814Z"
    },
    "execution": {
     "iopub.execute_input": "2025-02-21T22:43:34.822946Z",
     "iopub.status.busy": "2025-02-21T22:43:34.822871Z",
     "iopub.status.idle": "2025-02-21T22:43:34.838161Z",
     "shell.execute_reply": "2025-02-21T22:43:34.837884Z",
     "shell.execute_reply.started": "2025-02-21T22:43:34.822939Z"
    }
   },
   "outputs": [],
   "source": [
    "## Chung-Lu hypergraph\n",
    "random.seed(123)\n",
    "n = 200\n",
    "k1 = {i : random.randint(2, 10) for i in range(n)}  ## node degrees\n",
    "k2 = {i : sorted(k1.values())[i] for i in range(n)} ## edge sizes\n",
    "CL = gm.chung_lu_hypergraph(k1, k2)\n"
   ]
  },
  {
   "cell_type": "code",
   "execution_count": 11,
   "metadata": {
    "ExecuteTime": {
     "end_time": "2024-05-16T22:55:43.000798Z",
     "start_time": "2024-05-16T22:55:42.942005Z"
    },
    "execution": {
     "iopub.execute_input": "2025-02-21T22:43:34.838672Z",
     "iopub.status.busy": "2025-02-21T22:43:34.838603Z",
     "iopub.status.idle": "2025-02-21T22:43:34.866107Z",
     "shell.execute_reply": "2025-02-21T22:43:34.865857Z",
     "shell.execute_reply.started": "2025-02-21T22:43:34.838665Z"
    }
   },
   "outputs": [
    {
     "name": "stdout",
     "output_type": "stream",
     "text": [
      "qH = 0.032088376872437624\n",
      "number of edges with all vertices in same part: 18\n"
     ]
    }
   ],
   "source": [
    "## Louvain algorithm on the 2-section graph\n",
    "random.seed(123)\n",
    "G = hmod.two_section(CL)\n",
    "G.vs['louvain'] = G.community_multilevel().membership\n",
    "D = {v['name']:v['louvain'] for v in G.vs}\n",
    "ML = hmod.dict2part(D)\n",
    "\n",
    "## Compute qH\n",
    "print('qH =',hmod.modularity(CL, ML, hmod.strict))\n",
    "\n",
    "## number of edges where all vertices belong to the same community\n",
    "print('number of edges with all vertices in same part:',\n",
    "      sum([len(set([D[v] for v in CL.edges[e]]))==1 for e in CL.edges()]))\n"
   ]
  },
  {
   "cell_type": "code",
   "execution_count": 12,
   "metadata": {
    "ExecuteTime": {
     "end_time": "2024-05-16T22:55:45.332015Z",
     "start_time": "2024-05-16T22:55:44.005380Z"
    },
    "execution": {
     "iopub.execute_input": "2025-02-21T22:43:34.868628Z",
     "iopub.status.busy": "2025-02-21T22:43:34.868333Z",
     "iopub.status.idle": "2025-02-21T22:43:36.017757Z",
     "shell.execute_reply": "2025-02-21T22:43:36.017477Z",
     "shell.execute_reply.started": "2025-02-21T22:43:34.868618Z"
    }
   },
   "outputs": [
    {
     "name": "stdout",
     "output_type": "stream",
     "text": [
      "qH = 0.19038066106626064\n",
      "edges with all vertices in same part: 48\n"
     ]
    }
   ],
   "source": [
    "## Kumar algorithm\n",
    "random.seed(123)\n",
    "KU = hmod.kumar(CL)\n",
    "\n",
    "## Compute qH\n",
    "print('qH =',hmod.modularity(CL, KU, hmod.strict))\n",
    "\n",
    "## number of edges where all vertices belong to the same community\n",
    "print('edges with all vertices in same part:',\n",
    "      sum([len(set([hmod.part2dict(KU)[v] for v in CL.edges[e]]))==1 for e in CL.edges()]))\n"
   ]
  },
  {
   "cell_type": "code",
   "execution_count": 13,
   "metadata": {
    "ExecuteTime": {
     "end_time": "2024-05-16T22:55:45.800350Z",
     "start_time": "2024-05-16T22:55:45.333113Z"
    },
    "execution": {
     "iopub.execute_input": "2025-02-21T22:43:36.018217Z",
     "iopub.status.busy": "2025-02-21T22:43:36.018145Z",
     "iopub.status.idle": "2025-02-21T22:43:50.543925Z",
     "shell.execute_reply": "2025-02-21T22:43:50.543586Z",
     "shell.execute_reply.started": "2025-02-21T22:43:36.018210Z"
    }
   },
   "outputs": [
    {
     "name": "stdout",
     "output_type": "stream",
     "text": [
      "qH = 0.21123717925894986\n",
      "edges with all vertices in same part: 52\n"
     ]
    }
   ],
   "source": [
    "## Last-step algorithm using previous result as initial partition\n",
    "random.seed(123)\n",
    "LS = hmod.last_step(CL, KU, hmod.strict)\n",
    "\n",
    "## Compute qH\n",
    "print('qH =',hmod.modularity(CL, LS, hmod.strict))\n",
    "\n",
    "## number of edges where all vertices belong to the same community\n",
    "print('edges with all vertices in same part:',\n",
    "      sum([len(set([hmod.part2dict(LS)[v] for v in CL.edges[e]]))==1 for e in CL.edges()]))\n"
   ]
  },
  {
   "cell_type": "markdown",
   "metadata": {},
   "source": [
    "# Game of Thrones scenes hypergraph\n",
    "\n",
    "REF: https://github.com/jeffreylancaster/game-of-thrones\n",
    "\n",
    "We built an hypergraph from the game of thrones scenes with he following elements:\n",
    "\n",
    "* **Nodes** are characters in the series\n",
    "* **Hyperedges** are groups of character appearing in the same scene(s)\n",
    "* **Hyperedge weights** are total scene(s) duration in seconds involving those characters\n",
    "\n",
    "We kept hyperedges with at least 2 characters.\n",
    "\n",
    "We saved the following:\n",
    "\n",
    "* *Edges*: list of sets where the nodes are 0-based integers represents as strings\n",
    "* *Names*: dictionary; mapping of nodes to character names\n",
    "* *Weights*: list; hyperedge weights (in same order as Edges)\n"
   ]
  },
  {
   "cell_type": "code",
   "execution_count": 14,
   "metadata": {
    "ExecuteTime": {
     "end_time": "2024-05-16T22:55:47.891429Z",
     "start_time": "2024-05-16T22:55:47.862459Z"
    },
    "execution": {
     "iopub.execute_input": "2025-02-21T22:43:50.544555Z",
     "iopub.status.busy": "2025-02-21T22:43:50.544470Z",
     "iopub.status.idle": "2025-02-21T22:43:50.550624Z",
     "shell.execute_reply": "2025-02-21T22:43:50.550196Z",
     "shell.execute_reply.started": "2025-02-21T22:43:50.544547Z"
    },
    "scrolled": true
   },
   "outputs": [
    {
     "name": "stdout",
     "output_type": "stream",
     "text": [
      "198 nodes and 1492 edges\n"
     ]
    }
   ],
   "source": [
    "## load the GoT dataset\n",
    "Edges, Names, Weights = pickle.load(open( \"../../hypernetx/utils/toys/GoT.pkl\", \"rb\" ))\n",
    "print(len(Names),'nodes and',len(Edges),'edges')\n"
   ]
  },
  {
   "cell_type": "markdown",
   "metadata": {},
   "source": [
    "### Build weighted GoT hypergraph "
   ]
  },
  {
   "cell_type": "code",
   "execution_count": 15,
   "metadata": {
    "ExecuteTime": {
     "end_time": "2024-05-16T22:55:50.789454Z",
     "start_time": "2024-05-16T22:55:50.276602Z"
    },
    "execution": {
     "iopub.execute_input": "2025-02-21T22:43:50.551225Z",
     "iopub.status.busy": "2025-02-21T22:43:50.551125Z",
     "iopub.status.idle": "2025-02-21T22:43:51.041447Z",
     "shell.execute_reply": "2025-02-21T22:43:51.041104Z",
     "shell.execute_reply.started": "2025-02-21T22:43:50.551218Z"
    }
   },
   "outputs": [],
   "source": [
    "## Nodes are represented as strings from '0' to 'n-1'\n",
    "GoT= hnx.Hypergraph(dict(enumerate(Edges)))\n",
    "\n",
    "## add edge weights\n",
    "for e in GoT.edges:\n",
    "    GoT.edges[e].weight = Weights[e]\n",
    "\n",
    "## add full names\n",
    "for v in GoT.nodes:\n",
    "    GoT.nodes[v].name = Names[v]\n"
   ]
  },
  {
   "cell_type": "markdown",
   "metadata": {},
   "source": [
    "### Modularity (qH) on a random partition\n",
    "\n",
    "We use the default choice for the modularity (**linear** weights).\n",
    "Result for the random partition should be close to 0 and can be negative."
   ]
  },
  {
   "cell_type": "code",
   "execution_count": 16,
   "metadata": {
    "ExecuteTime": {
     "end_time": "2024-05-16T22:55:52.699884Z",
     "start_time": "2024-05-16T22:55:52.559964Z"
    },
    "execution": {
     "iopub.execute_input": "2025-02-21T22:43:51.042027Z",
     "iopub.status.busy": "2025-02-21T22:43:51.041928Z",
     "iopub.status.idle": "2025-02-21T22:43:51.145533Z",
     "shell.execute_reply": "2025-02-21T22:43:51.145151Z",
     "shell.execute_reply.started": "2025-02-21T22:43:51.042018Z"
    }
   },
   "outputs": [
    {
     "name": "stdout",
     "output_type": "stream",
     "text": [
      "qH = 0.017160191132316926\n"
     ]
    }
   ],
   "source": [
    "## generate a random partition into K parts to compare results\n",
    "np.random.seed(123)\n",
    "K = 5\n",
    "V = list(GoT.nodes)\n",
    "p = np.random.choice(K, size=len(V))\n",
    "RandPart = hmod.dict2part({V[i]:p[i] for i in range(len(V))})\n",
    "## compute qH\n",
    "print('qH =',hmod.modularity(GoT, RandPart))\n"
   ]
  },
  {
   "cell_type": "markdown",
   "metadata": {},
   "source": [
    "### Generate the 2-section graph and cluster with Louvain Algorithm\n"
   ]
  },
  {
   "cell_type": "code",
   "execution_count": 17,
   "metadata": {
    "ExecuteTime": {
     "end_time": "2024-05-16T22:55:55.034698Z",
     "start_time": "2024-05-16T22:55:54.830774Z"
    },
    "execution": {
     "iopub.execute_input": "2025-02-21T22:43:51.146065Z",
     "iopub.status.busy": "2025-02-21T22:43:51.145985Z",
     "iopub.status.idle": "2025-02-21T22:43:51.295425Z",
     "shell.execute_reply": "2025-02-21T22:43:51.295086Z",
     "shell.execute_reply.started": "2025-02-21T22:43:51.146059Z"
    }
   },
   "outputs": [
    {
     "name": "stdout",
     "output_type": "stream",
     "text": [
      "qH = 0.5372359319251632\n"
     ]
    }
   ],
   "source": [
    "## build 2-section\n",
    "G = hmod.two_section(GoT)\n",
    "\n",
    "## Louvain algorithm\n",
    "random.seed(123)\n",
    "G.vs['louvain'] = G.community_multilevel(weights='weight').membership\n",
    "ML = hmod.dict2part({v['name']:v['louvain'] for v in G.vs})\n",
    "\n",
    "## Compute qH\n",
    "print('qH =',hmod.modularity(GoT, ML))\n"
   ]
  },
  {
   "cell_type": "markdown",
   "metadata": {},
   "source": [
    "### Cluster hypergraph with Kumar's algorithm\n"
   ]
  },
  {
   "cell_type": "code",
   "execution_count": 18,
   "metadata": {
    "ExecuteTime": {
     "end_time": "2024-05-16T22:56:00.808169Z",
     "start_time": "2024-05-16T22:55:56.571391Z"
    },
    "execution": {
     "iopub.execute_input": "2025-02-21T22:43:51.295961Z",
     "iopub.status.busy": "2025-02-21T22:43:51.295885Z",
     "iopub.status.idle": "2025-02-21T22:43:54.831865Z",
     "shell.execute_reply": "2025-02-21T22:43:54.831603Z",
     "shell.execute_reply.started": "2025-02-21T22:43:51.295954Z"
    }
   },
   "outputs": [
    {
     "name": "stdout",
     "output_type": "stream",
     "text": [
      "qH = 0.533937944625529\n"
     ]
    }
   ],
   "source": [
    "## run Kumar's algorithm, get partition\n",
    "random.seed(123)\n",
    "KU = hmod.kumar(GoT)\n",
    "\n",
    "## Compute qH\n",
    "print('qH =',hmod.modularity(GoT, KU))\n"
   ]
  },
  {
   "cell_type": "markdown",
   "metadata": {},
   "source": [
    "### Cluster with simple H-based (Last Step) Algorithm\n",
    "\n",
    "We use Louvain on the 2-section or Kumar algorithm for the initial partition"
   ]
  },
  {
   "cell_type": "code",
   "execution_count": 19,
   "metadata": {
    "ExecuteTime": {
     "end_time": "2024-05-16T22:56:02.193842Z",
     "start_time": "2024-05-16T22:56:00.809355Z"
    },
    "execution": {
     "iopub.execute_input": "2025-02-21T22:43:54.832420Z",
     "iopub.status.busy": "2025-02-21T22:43:54.832336Z",
     "iopub.status.idle": "2025-02-21T22:44:01.707459Z",
     "shell.execute_reply": "2025-02-21T22:44:01.707191Z",
     "shell.execute_reply.started": "2025-02-21T22:43:54.832413Z"
    }
   },
   "outputs": [
    {
     "name": "stdout",
     "output_type": "stream",
     "text": [
      "qH = 0.5435345601110799\n"
     ]
    }
   ],
   "source": [
    "## H-based last step with Louvain parition already computed\n",
    "np.random.seed(123)\n",
    "LS = hmod.last_step(GoT, ML)\n",
    "\n",
    "## Compute qH\n",
    "print('qH =',hmod.modularity(GoT, LS))\n"
   ]
  },
  {
   "cell_type": "markdown",
   "metadata": {},
   "source": [
    "### Example: show top degree nodes in same cluster as Daenerys Targaryen\n"
   ]
  },
  {
   "cell_type": "code",
   "execution_count": 20,
   "metadata": {
    "ExecuteTime": {
     "end_time": "2024-05-16T22:56:02.201241Z",
     "start_time": "2024-05-16T22:56:02.195145Z"
    },
    "execution": {
     "iopub.execute_input": "2025-02-21T22:44:01.708103Z",
     "iopub.status.busy": "2025-02-21T22:44:01.708021Z",
     "iopub.status.idle": "2025-02-21T22:44:01.712485Z",
     "shell.execute_reply": "2025-02-21T22:44:01.711897Z",
     "shell.execute_reply.started": "2025-02-21T22:44:01.708097Z"
    }
   },
   "outputs": [
    {
     "data": {
      "text/html": [
       "<div>\n",
       "<style scoped>\n",
       "    .dataframe tbody tr th:only-of-type {\n",
       "        vertical-align: middle;\n",
       "    }\n",
       "\n",
       "    .dataframe tbody tr th {\n",
       "        vertical-align: top;\n",
       "    }\n",
       "\n",
       "    .dataframe thead th {\n",
       "        text-align: right;\n",
       "    }\n",
       "</style>\n",
       "<table border=\"1\" class=\"dataframe\">\n",
       "  <thead>\n",
       "    <tr style=\"text-align: right;\">\n",
       "      <th></th>\n",
       "      <th>character</th>\n",
       "      <th>degree</th>\n",
       "    </tr>\n",
       "  </thead>\n",
       "  <tbody>\n",
       "    <tr>\n",
       "      <th>3</th>\n",
       "      <td>Daenerys Targaryen</td>\n",
       "      <td>232</td>\n",
       "    </tr>\n",
       "    <tr>\n",
       "      <th>13</th>\n",
       "      <td>Jorah Mormont</td>\n",
       "      <td>121</td>\n",
       "    </tr>\n",
       "    <tr>\n",
       "      <th>2</th>\n",
       "      <td>Missandei</td>\n",
       "      <td>95</td>\n",
       "    </tr>\n",
       "    <tr>\n",
       "      <th>17</th>\n",
       "      <td>Drogon</td>\n",
       "      <td>84</td>\n",
       "    </tr>\n",
       "    <tr>\n",
       "      <th>7</th>\n",
       "      <td>Grey Worm</td>\n",
       "      <td>83</td>\n",
       "    </tr>\n",
       "  </tbody>\n",
       "</table>\n",
       "</div>"
      ],
      "text/plain": [
       "             character  degree\n",
       "3   Daenerys Targaryen     232\n",
       "13       Jorah Mormont     121\n",
       "2            Missandei      95\n",
       "17              Drogon      84\n",
       "7            Grey Worm      83"
      ]
     },
     "execution_count": 20,
     "metadata": {},
     "output_type": "execute_result"
    }
   ],
   "source": [
    "## Index for the characters\n",
    "inv_map = {v: k for k, v in Names.items()}\n",
    "DT = inv_map['Daenerys Targaryen']\n",
    "\n",
    "## DT's cluster\n",
    "DT_part = hmod.part2dict(LS)[DT]\n",
    "\n",
    "## Build dataframe: all nodes in DT_part\n",
    "L = []\n",
    "for n in LS[DT_part]:\n",
    "    L.append([Names[n], GoT.degree(n)])\n",
    "D = pd.DataFrame(L, columns=['character','degree'])\n",
    "\n",
    "## show top members\n",
    "D.sort_values(by='degree',ascending=False).head(5)\n"
   ]
  },
  {
   "cell_type": "code",
   "execution_count": null,
   "metadata": {},
   "outputs": [],
   "source": []
  },
  {
   "cell_type": "code",
   "execution_count": null,
   "metadata": {},
   "outputs": [],
   "source": []
  }
 ],
 "metadata": {
  "kernelspec": {
   "display_name": "Python 3 (ipykernel)",
   "language": "python",
   "name": "python3"
  },
  "language_info": {
   "codemirror_mode": {
    "name": "ipython",
    "version": 3
   },
   "file_extension": ".py",
   "mimetype": "text/x-python",
   "name": "python",
   "nbconvert_exporter": "python",
   "pygments_lexer": "ipython3",
   "version": "3.11.0"
  },
  "toc": {
   "base_numbering": 1,
   "nav_menu": {},
   "number_sections": true,
   "sideBar": true,
   "skip_h1_title": false,
   "title_cell": "Table of Contents",
   "title_sidebar": "Contents",
   "toc_cell": false,
   "toc_position": {},
   "toc_section_display": true,
   "toc_window_display": false
  }
 },
 "nbformat": 4,
 "nbformat_minor": 4
}
