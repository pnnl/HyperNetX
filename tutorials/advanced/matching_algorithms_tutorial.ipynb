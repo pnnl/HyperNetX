{
 "cells": [
  {
   "cell_type": "markdown",
   "metadata": {},
   "source": [
    "# Hypergraph Matching Algorithms Tutorial\n",
    "\n",
    "This tutorial highlights the implementation and usage of several hypergraph matching algorithms as presented in our publication: [Distributed Algorithms for Matching in Hypergraphs](https://arxiv.org/abs/2009.09605v1).\n",
    "\n",
    "## Algorithms Covered\n",
    "- Greedy Matching\n",
    "- Iterated Sampling\n",
    "- HEDCS Matching\n",
    "\n",
    "We will demonstrate how to use these algorithms with example hypergraphs and compare their performance."
   ]
  },
  {
   "cell_type": "code",
   "execution_count": 1,
   "metadata": {},
   "outputs": [],
   "source": [
    "import numpy as np\n",
    "import hypernetx as hnx\n",
    "from hypernetx.classes.hypergraph import Hypergraph\n",
    "from hypernetx.algorithms.matching_algorithms import greedy_matching, iterated_sampling, HEDCS_matching\n",
    "import random\n",
    "import logging"
   ]
  },
  {
   "cell_type": "markdown",
   "metadata": {},
   "source": [
    "## Example Hypergraph"
   ]
  },
  {
   "cell_type": "code",
   "execution_count": 2,
   "metadata": {},
   "outputs": [],
   "source": [
    "# Example hypergraph data\n",
    "hypergraph_data = {\n",
    "    0: (1, 2, 3),\n",
    "    1: (4, 5, 6),\n",
    "    2: (7, 8, 9),\n",
    "    3: (1, 4, 7),\n",
    "    4: (2, 5, 8),\n",
    "    5: (3, 6, 9)\n",
    "}\n",
    "\n",
    "# Creating a Hypergraph\n",
    "hypergraph = Hypergraph(hypergraph_data)"
   ]
  },
  {
   "cell_type": "markdown",
   "metadata": {},
   "source": [
    "## Greedy Matching Algorithm\n",
    "The Greedy Matching algorithm constructs a random k-partitioning of the hypergraph and finds a maximal matching."
   ]
  },
  {
   "cell_type": "code",
   "execution_count": 3,
   "metadata": {},
   "outputs": [
    {
     "name": "stdout",
     "output_type": "stream",
     "text": [
      "Greedy Matching Result: [(0, 1, 2), (3, 4, 5)]\n"
     ]
    }
   ],
   "source": [
    "k = 3\n",
    "greedy_result = greedy_matching(hypergraph, k)\n",
    "print(\"Greedy Matching Result:\", greedy_result)"
   ]
  },
  {
   "cell_type": "markdown",
   "metadata": {},
   "source": [
    "## Iterated Sampling Algorithm\n",
    "The Iterated Sampling algorithm uses sampling to find a maximal matching in a d-uniform hypergraph."
   ]
  },
  {
   "cell_type": "code",
   "execution_count": 4,
   "metadata": {},
   "outputs": [
    {
     "name": "stdout",
     "output_type": "stream",
     "text": [
      "Iterated Sampling Result: [(0, 1, 2), (3, 4, 5)]\n"
     ]
    }
   ],
   "source": [
    "s = 10\n",
    "iterated_result = iterated_sampling(hypergraph, s)\n",
    "print(\"Iterated Sampling Result:\", iterated_result)"
   ]
  },
  {
   "cell_type": "markdown",
   "metadata": {},
   "source": [
    "## HEDCS Matching Algorithm\n",
    "The HEDCS Matching algorithm constructs a Hyper-Edge Degree Constrained Subgraph (HEDCS) to find a maximal matching."
   ]
  },
  {
   "cell_type": "code",
   "execution_count": 5,
   "metadata": {},
   "outputs": [
    {
     "name": "stdout",
     "output_type": "stream",
     "text": [
      "HEDCS Matching Result: [(0, 1, 2), (3, 4, 5)]\n"
     ]
    }
   ],
   "source": [
    "hedcs_result = HEDCS_matching(hypergraph, s)\n",
    "print(\"HEDCS Matching Result:\", hedcs_result)"
   ]
  },
  {
   "cell_type": "markdown",
   "metadata": {},
   "source": [
    "## Performance Comparison\n",
    "We will compare the performance of the algorithms on large random hypergraphs."
   ]
  },
  {
   "cell_type": "code",
   "execution_count": 6,
   "metadata": {},
   "outputs": [
    {
     "data": {
      "text/html": [
       "<div>\n",
       "<figure>\n",
       "<img src=\"attachment:70ac4053-dbb7-4de4-bb27-81991f05a040.png\" alt=\"Performance Comparison of Hypergraph Matching Algorithms\">\n",
       "<figcaption><center>Performance Comparison of Hypergraph Matching Algorithms</center></figcaption>\n",
       "</figure>\n",
       "</div>"
      ],
      "text/plain": [
       "<Figure size 1000x600 with 1 Axes>"
      ]
     },
     "metadata": {},
     "output_type": "display_data"
    }
   ],
   "source": [
    "import time\n",
    "import matplotlib.pyplot as plt\n",
    "\n",
    "def generate_random_hypergraph(n, d, m):\n",
    "    edges = {f'e{i}': random.sample(range(1, n+1), d) for i in range(m)}\n",
    "    return Hypergraph(edges)\n",
    "\n",
    "# Generate random hypergraphs of increasing size\n",
    "sizes = [100, 200, 300, 400, 500]\n",
    "greedy_times = []\n",
    "iterated_times = []\n",
    "hedcs_times = []\n",
    "\n",
    "for size in sizes:\n",
    "    hypergraph = generate_random_hypergraph(size, 3, size)\n",
    "    \n",
    "    start_time = time.time()\n",
    "    greedy_matching(hypergraph, k)\n",
    "    greedy_times.append(time.time() - start_time)\n",
    "    \n",
    "    start_time = time.time()\n",
    "    iterated_sampling(hypergraph, s)\n",
    "    iterated_times.append(time.time() - start_time)\n",
    "    \n",
    "    start_time = time.time()\n",
    "    HEDCS_matching(hypergraph, s)\n",
    "    hedcs_times.append(time.time() - start_time)\n",
    "\n",
    "# Plot the results\n",
    "plt.figure(figsize=(10, 6))\n",
    "plt.plot(sizes, greedy_times, label='Greedy Matching')\n",
    "plt.plot(sizes, iterated_times, label='Iterated Sampling')\n",
    "plt.plot(sizes, hedcs_times, label='HEDCS Matching')\n",
    "plt.xlabel('Hypergraph Size')\n",
    "plt.ylabel('Time (seconds)')\n",
    "plt.title('Performance Comparison of Hypergraph Matching Algorithms')\n",
    "plt.legend()\n",
    "plt.show()"
   ]
  },
  {
   "cell_type": "markdown",
   "metadata": {},
   "source": [
    "## Conclusion\n",
    "In this tutorial, we demonstrated the implementation and usage of several hypergraph matching algorithms. We also compared their performance on random hypergraphs of increasing size.\n",
    "\n",
    "For more details, please refer to our publication: [Distributed Algorithms for Matching in Hypergraphs](https://arxiv.org/abs/2009.09605v1)."
   ]
  }
 ],
 "metadata": {
  "kernelspec": {
   "display_name": "Python 3 (ipykernel)",
   "language": "python",
   "name": "python3"
  },
  "language_info": {
   "codemirror_mode": {
    "name": "ipython",
    "version": 3
   },
   "file_extension": ".py",
   "mimetype": "text/x-python",
   "name": "python",
   "nbconvert_exporter": "python",
   "pygments_lexer": "ipython3",
   "version": "3.11.9"
  }
 },
 "nbformat": 4,
 "nbformat_minor": 2
}
